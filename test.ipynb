{
 "cells": [
  {
   "cell_type": "code",
   "execution_count": 28,
   "metadata": {},
   "outputs": [],
   "source": [
    "from selenium import webdriver\n",
    "from time import sleep\n",
    "from selenium import webdriver\n",
    "from selenium.webdriver.chrome.service import Service\n",
    "from webdriver_manager.chrome import ChromeDriverManager\n",
    "from selenium.webdriver.common.by import By\n",
    "from selenium.webdriver.chrome.options import Options"
   ]
  },
  {
   "cell_type": "markdown",
   "metadata": {},
   "source": [
    "### Set path for webdriver"
   ]
  },
  {
   "cell_type": "code",
   "execution_count": 29,
   "metadata": {},
   "outputs": [],
   "source": [
    "path = \"c://chromedriver.exe\""
   ]
  },
  {
   "cell_type": "code",
   "execution_count": 30,
   "metadata": {},
   "outputs": [],
   "source": [
    "# Open the browser\n",
    "browser = webdriver.Chrome()"
   ]
  },
  {
   "cell_type": "code",
   "execution_count": 31,
   "metadata": {},
   "outputs": [],
   "source": [
    "# Load the webpage\n",
    "sleep(2) \n",
    "browser.get('https://insights.blackcoffer.com/how-advertisement-increase-your-market-value/')"
   ]
  },
  {
   "cell_type": "code",
   "execution_count": 32,
   "metadata": {},
   "outputs": [],
   "source": [
    "browser.maximize_window()"
   ]
  },
  {
   "cell_type": "code",
   "execution_count": 33,
   "metadata": {},
   "outputs": [
    {
     "name": "stdout",
     "output_type": "stream",
     "text": [
      "How advertisement increase your market value?\n"
     ]
    }
   ],
   "source": [
    "title = browser.find_element(By.CLASS_NAME , value=\"tdb-title-text\").text#.find_element(By.CLASS_NAME , value=\"entry-title\").text\n",
    "print(title)"
   ]
  },
  {
   "cell_type": "code",
   "execution_count": 34,
   "metadata": {},
   "outputs": [
    {
     "name": "stdout",
     "output_type": "stream",
     "text": [
      "Advertising allows companies to differentiate themselves and highlight their unique selling points.\n",
      " According to research, the advertisement can increase the market value. Not only offline advertisement, but the world is also going through “Digital advertising” through “social media and many other media’’. With the help of advertising, most people are becoming famous and getting success in their companies.\n",
      " Advertisements can help the company to grow successfully and potentially. For small to big companies advertisement is the only weapon to change the company’s faith and bring success to the company. Nowadays most of them are using digital media for their advertisement and they’re attracting people to their products. It is a flat form for the people to know what product that they launch by the company, and most of them are using social media like “youtube, Facebook, Twitter Now recently Instagram also sponsoring the advertisements while scrolling through the app”. while coming to “nondigital advertising means firstly it will be the Radio, later pamphlets, and newspaper advertisements, announcing through the mike and roaming on the road”, With these the advertisement can help in growing the market value.\n",
      " According to research advertisement can helps increases the market value. A recent study that advertisement will only be the “strongest weapon to the change the market value”. Not only does the advertisement increase the market’s value, it sometimes depends upon the product. with the help of this, it will increase the market value of the company and increases the share value of the company.  Most companies are spending crores and lakhs on their advertisement for increasing the market value and their company value.\n",
      "     Presently the following days “celebrities are sponsoring the product and it is a key to the company to increase the market value of the company”. By sponsoring the about their fans buying that product and increasing the market value of the company.  Mostly the main reason for increasing the market value is to show up their product’s specialty and the importance of the product.\n",
      "    By giving advertisements some of them believe it is a brand that can now beat the product. And most people think that and buy that product and this is the one type of way that increases the market value of the product. Some of them trust their product and buy their product, and increase the market value.\n",
      "Nowadays advertising is largely expanded through the public area, the internet websites, etc …By advertising, you can know what the product is launched and what is the specialty of their product, after research, the product will be sold in the market with their values and it will help in increase the market value.\n",
      " From the above data, we can see how many ways that increase the market value. And so many ways that advertisement is only the way that increases the market value. Not only non-digital media even in the events they’re giving the pamphlets and increasing their market values. And some of them observe that the company’s interaction with the people can also increase the market value of the company. And many of them observe that the quality of their product also increase the market value\n",
      "\n"
     ]
    }
   ],
   "source": [
    "article = browser.find_element(By.CSS_SELECTOR , value='div[class=\"td_block_wrap tdb_single_content tdi_130 td-pb-border-top td_block_template_1 td-post-content tagdiv-type\"]').text\n",
    "start_index = article.find(\"Blackcoffer\")\n",
    "output_text = article[:start_index]\n",
    "print(output_text)"
   ]
  },
  {
   "cell_type": "code",
   "execution_count": null,
   "metadata": {},
   "outputs": [],
   "source": []
  }
 ],
 "metadata": {
  "kernelspec": {
   "display_name": "Python 3",
   "language": "python",
   "name": "python3"
  },
  "language_info": {
   "codemirror_mode": {
    "name": "ipython",
    "version": 3
   },
   "file_extension": ".py",
   "mimetype": "text/x-python",
   "name": "python",
   "nbconvert_exporter": "python",
   "pygments_lexer": "ipython3",
   "version": "3.9.0"
  }
 },
 "nbformat": 4,
 "nbformat_minor": 2
}
